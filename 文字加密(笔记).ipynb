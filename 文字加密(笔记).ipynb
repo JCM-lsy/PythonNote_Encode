{
 "cells": [
  {
   "cell_type": "markdown",
   "metadata": {},
   "source": [
    "# 文字加密一：简单替换加密"
   ]
  },
  {
   "cell_type": "markdown",
   "metadata": {},
   "source": [
    "## TIPS"
   ]
  },
  {
   "cell_type": "code",
   "execution_count": null,
   "metadata": {},
   "outputs": [],
   "source": [
    "str.index()  #找索引\n",
    "help()  #多用help\n",
    "%pdb  #辅助调试\n",
    "assert('')#bool表达式验证\n",
    "ord('!')#获取字符的ASCII码\n",
    "random.shuffle()\n",
    "list.copy()#列表的浅拷贝，直接赋值会指向同一空间，原表会被改掉\n",
    "dir(random)#查看成员函数"
   ]
  },
  {
   "cell_type": "code",
   "execution_count": 41,
   "metadata": {},
   "outputs": [
    {
     "name": "stdout",
     "output_type": "stream",
     "text": [
      "2\n",
      "1\n",
      "2\n",
      "2\n"
     ]
    }
   ],
   "source": [
    "#辨析局部变量与全局变量\n",
    "a = 1\n",
    "\n",
    "def mytest1():\n",
    "    a = 2\n",
    "    print(a)\n",
    "mytest1()\n",
    "print(a)\n",
    "\n",
    "def mytest2():\n",
    "    global a\n",
    "    a = 2\n",
    "    print(a)\n",
    "mytest2()\n",
    "print(a)"
   ]
  },
  {
   "cell_type": "markdown",
   "metadata": {},
   "source": [
    "## 版本一：朴实无华版"
   ]
  },
  {
   "cell_type": "code",
   "execution_count": 70,
   "metadata": {},
   "outputs": [],
   "source": [
    "alphabet_src = \"abcdefghijklmnopqrstuvwxyz\"#起名要注意可读性，变量名用_，函数名用驼峰式\n",
    "alphabet_tar = \"defghijklmnopqrstuvwxyzabc\""
   ]
  },
  {
   "cell_type": "code",
   "execution_count": 71,
   "metadata": {},
   "outputs": [],
   "source": [
    "src_str = 'hello world!'"
   ]
  },
  {
   "cell_type": "code",
   "execution_count": 72,
   "metadata": {
    "scrolled": true
   },
   "outputs": [
    {
     "name": "stdout",
     "output_type": "stream",
     "text": [
      "khoor zruog!\n"
     ]
    }
   ],
   "source": [
    "encrypted_str = ''\n",
    "for single_char in src_str:\n",
    "    if single_char in alphabet_src:\n",
    "        index = alphabet_src.index(single_char)\n",
    "        encrypted_str = encrypted_str + alphabet_tar[index]\n",
    "    else:\n",
    "        encrypted_str = encrypted_str + single_char\n",
    "print(encrypted_str)"
   ]
  },
  {
   "cell_type": "code",
   "execution_count": 73,
   "metadata": {},
   "outputs": [
    {
     "name": "stdout",
     "output_type": "stream",
     "text": [
      "hello world!\n"
     ]
    }
   ],
   "source": [
    "decryped_str = ''\n",
    "for single_char in encrypted_str:\n",
    "    if single_char in alphabet_tar:\n",
    "        index = alphabet_tar.index(single_char)\n",
    "        decryped_str = decryped_str + alphabet_src[index]\n",
    "    else:\n",
    "        decryped_str = decryped_str + single_char\n",
    "print(decryped_str)"
   ]
  },
  {
   "cell_type": "markdown",
   "metadata": {},
   "source": [
    "## 版本二：用函数封装代码段"
   ]
  },
  {
   "cell_type": "code",
   "execution_count": 74,
   "metadata": {},
   "outputs": [],
   "source": [
    "alphabet_src = \"abcdefghijklmnopqrstuvwxyz\"#起名要注意可读性，变量名用_，函数名用驼峰式\n",
    "alphabet_tar = \"defghijklmnopqrstuvwxyzabc\""
   ]
  },
  {
   "cell_type": "code",
   "execution_count": 76,
   "metadata": {},
   "outputs": [],
   "source": [
    "def encryptIt(src_str):\n",
    "    encrypted_str = ''\n",
    "    for single_char in src_str:\n",
    "        if single_char in alphabet_src:\n",
    "            index = alphabet_src.index(single_char)\n",
    "            encrypted_str = encrypted_str + alphabet_tar[index]\n",
    "        else:\n",
    "            encrypted_str = encrypted_str + single_char\n",
    "    return encrypted_str\n",
    "\n",
    "def decryptIt(encrypted_str):\n",
    "    decryped_str = ''\n",
    "    for single_char in encrypted_str:\n",
    "        if single_char in alphabet_tar:\n",
    "            index = alphabet_tar.index(single_char)\n",
    "            decryped_str = decryped_str + alphabet_src[index]\n",
    "        else:\n",
    "            decryped_str = decryped_str + single_char\n",
    "    return decryped_str"
   ]
  },
  {
   "cell_type": "code",
   "execution_count": 78,
   "metadata": {},
   "outputs": [
    {
     "name": "stdout",
     "output_type": "stream",
     "text": [
      "I oryh brx!\n",
      "I love you!\n"
     ]
    }
   ],
   "source": [
    "print(encryptIt(\"I love you!\"))#不同逻辑之间隔开\n",
    "print(decryptIt(\"I oryh brx!\"))    "
   ]
  },
  {
   "cell_type": "markdown",
   "metadata": {},
   "source": [
    "## 版本三：加入全局变量--增强可读性"
   ]
  },
  {
   "cell_type": "code",
   "execution_count": 79,
   "metadata": {},
   "outputs": [],
   "source": [
    "alphabet_src = \"abcdefghijklmnopqrstuvwxyz\"#起名要注意可读性，变量名用_，函数名用驼峰式\n",
    "alphabet_tar = \"defghijklmnopqrstuvwxyzabc\""
   ]
  },
  {
   "cell_type": "code",
   "execution_count": 81,
   "metadata": {},
   "outputs": [],
   "source": [
    "def encryptIt(src_str):\n",
    "    global alphbet_src,alphabet_tar#全局变量\n",
    "    encrypted_str = ''\n",
    "    for single_char in src_str:\n",
    "        if single_char in alphabet_src:\n",
    "            index = alphabet_src.index(single_char)\n",
    "            encrypted_str = encrypted_str + alphabet_tar[index]\n",
    "        else:\n",
    "            encrypted_str = encrypted_str + single_char\n",
    "    return encrypted_str\n",
    "\n",
    "def decryptIt(encrypted_str):\n",
    "    global alphbet_src,alphabet_tar#全局变量\n",
    "    decryped_str = ''\n",
    "    for single_char in encrypted_str:\n",
    "        if single_char in alphabet_tar:\n",
    "            index = alphabet_tar.index(single_char)\n",
    "            decryped_str = decryped_str + alphabet_src[index]\n",
    "        else:\n",
    "            decryped_str = decryped_str + single_char\n",
    "    return decryped_str"
   ]
  },
  {
   "cell_type": "code",
   "execution_count": 83,
   "metadata": {},
   "outputs": [
    {
     "name": "stdout",
     "output_type": "stream",
     "text": [
      "I oryh brx!\n",
      "I love you!\n"
     ]
    }
   ],
   "source": [
    "print(encryptIt(\"I love you!\"))#不同逻辑之间隔开\n",
    "print(decryptIt(\"I oryh brx!\"))  "
   ]
  },
  {
   "cell_type": "markdown",
   "metadata": {},
   "source": [
    "## 版本四：加入自定义函数的help说明+乱序"
   ]
  },
  {
   "cell_type": "code",
   "execution_count": 84,
   "metadata": {},
   "outputs": [],
   "source": [
    "alphabet_src = \"abcdefghijklmnopqrstuvwxyz\"#起名要注意可读性，变量名用_，函数名用驼峰式\n",
    "alphabet_tar = \"defopquvghnwxyrstzabcijklm\""
   ]
  },
  {
   "cell_type": "code",
   "execution_count": 86,
   "metadata": {},
   "outputs": [],
   "source": [
    "def encryptIt(src_str:str) -> str:\n",
    "    '''Encrypt string -- Simple replacement encryption \n",
    "    Input parameters:\n",
    "      src_str:original text\n",
    "    Return result:encrypted text\n",
    "    '''\n",
    "    global alphbet_src,alphabet_tar#全局变量\n",
    "    encrypted_str = ''\n",
    "    for single_char in src_str:\n",
    "        if single_char in alphabet_src:\n",
    "            index = alphabet_src.index(single_char)\n",
    "            encrypted_str = encrypted_str + alphabet_tar[index]\n",
    "        else:\n",
    "            encrypted_str = encrypted_str + single_char\n",
    "    return encrypted_str\n",
    "\n",
    "def decryptIt(encrypted_str:str) -> str:\n",
    "    '''Decrypt string -- Simple replacement decryption \n",
    "    Input parameters:\n",
    "      src_str:encrypted text\n",
    "    Return result:original text\n",
    "    '''\n",
    "    global alphbet_src,alphabet_tar \n",
    "    decryped_str = ''\n",
    "    for single_char in encrypted_str:\n",
    "        if single_char in alphabet_tar:\n",
    "            index = alphabet_tar.index(single_char)\n",
    "            decryped_str = decryped_str + alphabet_src[index]\n",
    "        else:\n",
    "            decryped_str = decryped_str + single_char\n",
    "    return decryped_str"
   ]
  },
  {
   "cell_type": "code",
   "execution_count": 87,
   "metadata": {},
   "outputs": [
    {
     "name": "stdout",
     "output_type": "stream",
     "text": [
      "I wrip lrc!\n",
      "I love you!\n"
     ]
    }
   ],
   "source": [
    "print(encryptIt(\"I love you!\"))#不同逻辑之间隔开\n",
    "print(decryptIt(\"I wrip lrc!\"))  "
   ]
  },
  {
   "cell_type": "code",
   "execution_count": 88,
   "metadata": {},
   "outputs": [
    {
     "name": "stdout",
     "output_type": "stream",
     "text": [
      "Help on function encryptIt in module __main__:\n",
      "\n",
      "encryptIt(src_str: str) -> str\n",
      "    Encryp string -- Simple replacement encryption \n",
      "    Input parameters:\n",
      "      src_str:original text\n",
      "    Return result:encrypted text\n",
      "\n"
     ]
    }
   ],
   "source": [
    "help(encryptIt)"
   ]
  },
  {
   "cell_type": "code",
   "execution_count": 89,
   "metadata": {},
   "outputs": [
    {
     "name": "stdout",
     "output_type": "stream",
     "text": [
      "Help on function decryptIt in module __main__:\n",
      "\n",
      "decryptIt(encrypted_str: str) -> str\n",
      "    Decryp string -- Simple replacement decryption \n",
      "    Input parameters:\n",
      "      src_str:encrypted text\n",
      "    Return result:original text\n",
      "\n"
     ]
    }
   ],
   "source": [
    "help(decryptIt)"
   ]
  },
  {
   "cell_type": "markdown",
   "metadata": {},
   "source": [
    "## 版本五：用索引实现串的替换"
   ]
  },
  {
   "cell_type": "code",
   "execution_count": 90,
   "metadata": {},
   "outputs": [],
   "source": [
    "alphabet_src = \"abcdefghijklmnopqrstuvwxyz\"#起名要注意可读性，变量名用_，函数名用驼峰式"
   ]
  },
  {
   "cell_type": "code",
   "execution_count": 13,
   "metadata": {},
   "outputs": [],
   "source": [
    "def encryptIt(src_str:str) -> str:\n",
    "    '''Encrypt string -- Simple replacement encryption \n",
    "    Input parameters:\n",
    "      src_str:original text\n",
    "    Return result:encrypted text\n",
    "    '''\n",
    "    global alphbet_src,alphabet_tar#全局变量\n",
    "    result = ''\n",
    "    for single_char in src_str:\n",
    "        if single_char in alphabet_src:\n",
    "            old_index = alphabet_src.index(single_char)\n",
    "            new_index = (old_index + 3) % 26\n",
    "            result = result + alphabet_src[new_index]\n",
    "        else:\n",
    "            result = result + single_char\n",
    "    return result\n",
    "\n",
    "def decryptIt(encrypted_str:str) -> str:\n",
    "    '''Decrypt string -- Simple replacement decryption \n",
    "    Input parameters:\n",
    "      src_str:encrypted text\n",
    "    Return result:original text\n",
    "    '''\n",
    "    global alphbet_src,alphabet_tar \n",
    "    result = ''\n",
    "    for single_char in encrypted_str:\n",
    "        if single_char in alphabet_src:\n",
    "            old_index = alphabet_src.index(single_char)\n",
    "            new_index = (old_index - 3) % 26\n",
    "            result = result + alphabet_src[new_index]\n",
    "        else:\n",
    "            result = result + single_char\n",
    "    return result"
   ]
  },
  {
   "cell_type": "code",
   "execution_count": 14,
   "metadata": {},
   "outputs": [
    {
     "name": "stdout",
     "output_type": "stream",
     "text": [
      "I oryh brx!\n",
      "I love you!\n"
     ]
    }
   ],
   "source": [
    "print(encryptIt(\"I love you!\"))#不同逻辑之间隔开\n",
    "print(decryptIt(\"I oryh brx!\"))  "
   ]
  },
  {
   "cell_type": "markdown",
   "metadata": {},
   "source": [
    "## 版本六：压缩代码长度"
   ]
  },
  {
   "cell_type": "code",
   "execution_count": 8,
   "metadata": {},
   "outputs": [],
   "source": [
    "alphabet_src = \"abcdefghijklmnopqrstuvwxyz\"#起名要注意可读性，变量名用_，函数名用驼峰式"
   ]
  },
  {
   "cell_type": "code",
   "execution_count": 24,
   "metadata": {},
   "outputs": [],
   "source": [
    "def cryptIt(src_str:str,if_decrypt:bool = False) -> str:\n",
    "    '''Encrypt and Decrypr string -- Simple replacement encryption \n",
    "    Input parameters:\n",
    "      src_str:original text\n",
    "      if_decrypt:True--Encrypt,False--Decrypt\n",
    "    Return result:encrypted or decrypted text\n",
    "    '''\n",
    "    global alphbet_src,alphabet_tar#全局变量\n",
    "    result = ''\n",
    "    for single_char in src_str:\n",
    "        if single_char in alphabet_src:\n",
    "            new_index = (alphabet_src.index(single_char) - 3) % 26 \\\n",
    "                if if_decrypt is True \\\n",
    "                else (alphabet_src.index(single_char) + 3) % 26 #字符移位替换\n",
    "            result += alphabet_src[new_index]\n",
    "        else:\n",
    "            result += single_char\n",
    "    return result"
   ]
  },
  {
   "cell_type": "code",
   "execution_count": 25,
   "metadata": {
    "scrolled": true
   },
   "outputs": [
    {
     "name": "stdout",
     "output_type": "stream",
     "text": [
      "I ilsb vlr!\n",
      "I love you!\n"
     ]
    }
   ],
   "source": [
    "print(cryptIt(\"I love you!\",True))#不同逻辑之间隔开\n",
    "print(cryptIt(\"I ilsb vlr!\"))  "
   ]
  },
  {
   "cell_type": "markdown",
   "metadata": {},
   "source": [
    "## 版本七：再压缩--列表推导式"
   ]
  },
  {
   "cell_type": "code",
   "execution_count": 16,
   "metadata": {},
   "outputs": [],
   "source": [
    "alphabet_src = \"abcdefghijklmnopqrstuvwxyz\"#起名要注意可读性，变量名用_，函数名用驼峰式"
   ]
  },
  {
   "cell_type": "code",
   "execution_count": 20,
   "metadata": {},
   "outputs": [],
   "source": [
    "def cryptIt(src_str:str,if_decrypt:bool = False) -> str:\n",
    "    '''Encrypt and Decrypr string -- Simple replacement encryption \n",
    "    Input parameters:\n",
    "      src_str:original text\n",
    "      if_decrypt:True--Encrypt,False--Decrypt\n",
    "    Return result:encrypted or decrypted text\n",
    "    '''\n",
    "    global alphbet_src,alphabet_tar#全局变量\n",
    "    return ''.join([alphabet_src[(alphabet_src.index(single_char) - 3) % 26 \\\n",
    "                if if_decrypt is True \\\n",
    "                else (alphabet_src.index(single_char) + 3) % 26] if \\\n",
    "                single_char in alphabet_src else single_char \\\n",
    "                for single_char in src_str])"
   ]
  },
  {
   "cell_type": "code",
   "execution_count": 36,
   "metadata": {},
   "outputs": [
    {
     "name": "stdout",
     "output_type": "stream",
     "text": [
      "I ilsb vlr!\n",
      "I love you!\n"
     ]
    }
   ],
   "source": [
    "print(cryptIt(\"I love you!\",True))#不同逻辑之间隔开\n",
    "print(cryptIt(\"I ilsb vlr!\"))  "
   ]
  },
  {
   "cell_type": "markdown",
   "metadata": {},
   "source": [
    "## 版本八：（对比六、七）适当压缩但不影响可读性与交互性"
   ]
  },
  {
   "cell_type": "code",
   "execution_count": null,
   "metadata": {},
   "outputs": [],
   "source": [
    "alphabet_src = \"abcdefghijklmnopqrstuvwxyz\"#起名要注意可读性，变量名用_，函数名用驼峰式"
   ]
  },
  {
   "cell_type": "code",
   "execution_count": 44,
   "metadata": {},
   "outputs": [],
   "source": [
    "def convert_char(single_char,operation):\n",
    "    global alphabet_src\n",
    "    if single_char in alphabet_src:\n",
    "        old_index = alphabet_src.index(single_char)\n",
    "        if operation == 'encrypt':\n",
    "            new_index = (old_index + 3) % 26\n",
    "        else:\n",
    "            new_index = (old_index - 3) % 26\n",
    "    else:\n",
    "        return single_char\n",
    "    return alphabet_src[new_index]\n",
    "\n",
    "def encrypt_it(src_str:str) -> str:\n",
    "    '''Encrypt string -- Simple replacement encryption \n",
    "    Input parameters:\n",
    "      src_str:original text\n",
    "    Return result:encrypted text\n",
    "    '''\n",
    "    #列表推导式，局部封装\n",
    "    encrypted_str = ''.join([convert_char(single_char,'encrypt') for single_char in src_str])\n",
    "    return encrypted_str\n",
    "\n",
    "def decrypt_it(encrypted_str:str) -> str:\n",
    "    '''Decrypt string -- Simple replacement decryption \n",
    "    Input parameters:\n",
    "      src_str:encrypted text\n",
    "    Return result:original text\n",
    "    '''\n",
    "    #列表推导式，局部封装\n",
    "    decrypted_str = ''.join([convert_char(single_char,'decrypt') for single_char in encrypted_str])\n",
    "    return decrypted_str"
   ]
  },
  {
   "cell_type": "code",
   "execution_count": 54,
   "metadata": {},
   "outputs": [],
   "source": [
    "assert(decrypt_it(encrypt_it('abdkwe')) == 'abdkwe')#对互反性进行验证"
   ]
  },
  {
   "cell_type": "code",
   "execution_count": 55,
   "metadata": {},
   "outputs": [
    {
     "name": "stdout",
     "output_type": "stream",
     "text": [
      "I oryh brx!\n",
      "I love you!\n"
     ]
    }
   ],
   "source": [
    "print(encrypt_it(\"I love you!\"))#不同逻辑之间隔开\n",
    "print(decrypt_it(\"I oryh brx!\"))  "
   ]
  },
  {
   "cell_type": "markdown",
   "metadata": {},
   "source": [
    "# 文字加密进阶"
   ]
  },
  {
   "cell_type": "markdown",
   "metadata": {},
   "source": [
    "## 版本一：用ASCII码实现偏移置换（33-26）"
   ]
  },
  {
   "cell_type": "code",
   "execution_count": 13,
   "metadata": {},
   "outputs": [],
   "source": [
    "def convert_char(single_char,operation):\n",
    "    OFFSET = 10\n",
    "    if ord(single_char) >=33 and ord(single_char) <=126:\n",
    "        if operation == 'encrypt':\n",
    "            result = chr((ord(single_char) -33 + OFFSET) % (126 -33 + 1) + 33)\n",
    "        else:\n",
    "            result = chr((ord(single_char) -33 - OFFSET) % (126 -33 + 1) + 33)\n",
    "    else:\n",
    "        return single_char\n",
    "    return result\n",
    "\n",
    "def encrypt_it(src_str:str) -> str:\n",
    "    '''Encrypt string -- Simple replacement encryption \n",
    "    Input parameters:\n",
    "      src_str:original text\n",
    "    Return result:encrypted text\n",
    "    '''\n",
    "    #列表推导式，局部封装\n",
    "    encrypted_str = ''.join([convert_char(single_char,'encrypt') for single_char in src_str])\n",
    "    return encrypted_str\n",
    "\n",
    "def decrypt_it(encrypted_str:str) -> str:\n",
    "    '''Decrypt string -- Simple replacement decryption \n",
    "    Input parameters:\n",
    "      src_str:encrypted text\n",
    "    Return result:original text\n",
    "    '''\n",
    "    #列表推导式，局部封装\n",
    "    decrypted_str = ''.join([convert_char(single_char,'decrypt') for single_char in encrypted_str])\n",
    "    return decrypted_str"
   ]
  },
  {
   "cell_type": "code",
   "execution_count": 14,
   "metadata": {},
   "outputs": [],
   "source": [
    "assert(decrypt_it(encrypt_it('abdkwe')) == 'abdkwe')#对互反性进行验证"
   ]
  },
  {
   "cell_type": "code",
   "execution_count": 19,
   "metadata": {},
   "outputs": [
    {
     "name": "stdout",
     "output_type": "stream",
     "text": [
      "S vy\"o %y!+\n",
      "I love you!\n"
     ]
    }
   ],
   "source": [
    "print(encrypt_it(\"I love you!\"))#不同逻辑之间隔开\n",
    "print(decrypt_it(\"S vy\\\"o %y!+\"))  "
   ]
  },
  {
   "cell_type": "markdown",
   "metadata": {},
   "source": [
    "## 版本二：强化加密可靠性-乱序"
   ]
  },
  {
   "cell_type": "code",
   "execution_count": 41,
   "metadata": {},
   "outputs": [],
   "source": [
    "import random\n",
    "alphabet_src = [chr(i) for i in range(33,127)]\n",
    "alphabet_tar = alphabet_src.copy()\n",
    "random.shuffle(alphabet_tar) "
   ]
  },
  {
   "cell_type": "code",
   "execution_count": 42,
   "metadata": {},
   "outputs": [],
   "source": [
    "def convert_char(single_char,operation):\n",
    "    global alphabet_src\n",
    "    if single_char in alphabet_src:\n",
    "        if operation == 'encrypt':\n",
    "            result = alphabet_tar[alphabet_src.index(single_char)]\n",
    "        else:\n",
    "            result = alphabet_src[alphabet_tar.index(single_char)]\n",
    "    else:\n",
    "        result = single_char\n",
    "    return result\n",
    "\n",
    "def encrypt_it(src_str:str) -> str:\n",
    "    '''Encrypt string -- Simple replacement encryption \n",
    "    Input parameters:\n",
    "      src_str:original text\n",
    "    Return result:encrypted text\n",
    "    '''\n",
    "    #列表推导式，局部封装\n",
    "    encrypted_str = ''.join([convert_char(single_char,'encrypt') for single_char in src_str])\n",
    "    return encrypted_str\n",
    "\n",
    "def decrypt_it(encrypted_str:str) -> str:\n",
    "    '''Decrypt string -- Simple replacement decryption \n",
    "    Input parameters:\n",
    "      src_str:encrypted text\n",
    "    Return result:original text\n",
    "    '''\n",
    "    #列表推导式，局部封装\n",
    "    decrypted_str = ''.join([convert_char(single_char,'decrypt') for single_char in encrypted_str])\n",
    "    return decrypted_str"
   ]
  },
  {
   "cell_type": "code",
   "execution_count": 43,
   "metadata": {},
   "outputs": [],
   "source": [
    "assert(decrypt_it(encrypt_it('abdkwe')) == 'abdkwe')#对互反性进行验证,不报错就是ok"
   ]
  },
  {
   "cell_type": "code",
   "execution_count": 45,
   "metadata": {},
   "outputs": [
    {
     "name": "stdout",
     "output_type": "stream",
     "text": [
      "9 N{3$ S{~r\n",
      "I love you!\n"
     ]
    }
   ],
   "source": [
    "print(encrypt_it(\"I love you!\"))#不同逻辑之间隔开\n",
    "print(decrypt_it(\"9 N{3$ S{~r\")) "
   ]
  },
  {
   "cell_type": "markdown",
   "metadata": {},
   "source": [
    "## 版本三：实现交付--对文件的操作"
   ]
  },
  {
   "cell_type": "code",
   "execution_count": 56,
   "metadata": {},
   "outputs": [],
   "source": [
    "import pickle"
   ]
  },
  {
   "cell_type": "code",
   "execution_count": 69,
   "metadata": {},
   "outputs": [
    {
     "name": "stderr",
     "output_type": "stream",
     "text": [
      "系统找不到指定的文件。\n"
     ]
    }
   ],
   "source": [
    "!ls < test.txt"
   ]
  },
  {
   "cell_type": "code",
   "execution_count": 68,
   "metadata": {},
   "outputs": [
    {
     "name": "stderr",
     "output_type": "stream",
     "text": [
      "系统找不到指定的文件。\n"
     ]
    }
   ],
   "source": [
    "!more < test.txt"
   ]
  },
  {
   "cell_type": "code",
   "execution_count": 57,
   "metadata": {},
   "outputs": [
    {
     "data": {
      "text/plain": [
       "958"
      ]
     },
     "execution_count": 57,
     "metadata": {},
     "output_type": "execute_result"
    }
   ],
   "source": [
    "f = open('key.dat','wb')\n",
    "f.write(pickle.dumps([alphabet_src,alphabet_tar]))\n",
    "f.close()"
   ]
  },
  {
   "cell_type": "code",
   "execution_count": 61,
   "metadata": {},
   "outputs": [],
   "source": [
    "import random\n",
    "alphabet_src = [chr(i) for i in range(33,127)]\n",
    "alphabet_tar = alphabet_src.copy()\n",
    "random.shuffle(alphabet_tar) "
   ]
  },
  {
   "cell_type": "code",
   "execution_count": 64,
   "metadata": {},
   "outputs": [],
   "source": [
    "with open('key.dat','wb') as f:#这样忘记close也不要紧\n",
    "    f.write(pickle.dumps([alphabet_src,alphabet_tar]))"
   ]
  },
  {
   "cell_type": "code",
   "execution_count": 70,
   "metadata": {},
   "outputs": [
    {
     "name": "stdout",
     "output_type": "stream",
     "text": [
      "[['!', '\"', '#', '$', '%', '&', \"'\", '(', ')', '*', '+', ',', '-', '.', '/', '0', '1', '2', '3', '4', '5', '6', '7', '8', '9', ':', ';', '<', '=', '>', '?', '@', 'A', 'B', 'C', 'D', 'E', 'F', 'G', 'H', 'I', 'J', 'K', 'L', 'M', 'N', 'O', 'P', 'Q', 'R', 'S', 'T', 'U', 'V', 'W', 'X', 'Y', 'Z', '[', '\\\\', ']', '^', '_', '`', 'a', 'b', 'c', 'd', 'e', 'f', 'g', 'h', 'i', 'j', 'k', 'l', 'm', 'n', 'o', 'p', 'q', 'r', 's', 't', 'u', 'v', 'w', 'x', 'y', 'z', '{', '|', '}', '~'], ['M', 'g', 'P', '(', '0', 'O', 'e', 'p', 'w', 'j', ')', '/', 's', '@', '{', 'f', '7', 't', 'E', 'Z', '[', '&', 'i', 'x', '<', '*', '9', 'm', 'd', '.', '5', ',', 'B', '$', 'r', 'H', 'o', ':', 'W', '\\\\', 'L', '8', '%', '3', 'J', '}', 'y', '-', '`', 'a', 'u', 'U', ']', '>', '1', 'T', '_', 'b', '#', ';', 'Y', '?', 'R', 'G', 'S', 'c', 'X', 'V', 'z', 'K', 'h', '!', 'q', '|', 'l', 'v', '4', '=', '6', 'Q', 'k', \"'\", 'n', '\"', '~', 'I', 'C', 'F', '^', 'D', 'N', '2', 'A', '+']]\n"
     ]
    }
   ],
   "source": [
    "with open('key.dat','rb') as f:#这样忘记close也不要紧\n",
    "    print(pickle.loads(f.read()))"
   ]
  },
  {
   "cell_type": "code",
   "execution_count": 73,
   "metadata": {},
   "outputs": [
    {
     "ename": "SyntaxError",
     "evalue": "invalid syntax (<ipython-input-73-e134b3a8a7c7>, line 3)",
     "output_type": "error",
     "traceback": [
      "\u001b[1;36m  File \u001b[1;32m\"<ipython-input-73-e134b3a8a7c7>\"\u001b[1;36m, line \u001b[1;32m3\u001b[0m\n\u001b[1;33m    open('key1.dat','wb')\u001b[0m\n\u001b[1;37m       ^\u001b[0m\n\u001b[1;31mSyntaxError\u001b[0m\u001b[1;31m:\u001b[0m invalid syntax\n"
     ]
    }
   ],
   "source": [
    "pickle.dump(\n",
    "    [alphabet_src,alphabet_tar]\n",
    "    open('key1.dat','wb')\n",
    ")"
   ]
  },
  {
   "cell_type": "code",
   "execution_count": 75,
   "metadata": {
    "scrolled": true
   },
   "outputs": [
    {
     "name": "stderr",
     "output_type": "stream",
     "text": [
      "系统找不到指定的文件。\n"
     ]
    }
   ],
   "source": [
    "!ls < key1.dat"
   ]
  },
  {
   "cell_type": "code",
   "execution_count": 76,
   "metadata": {},
   "outputs": [
    {
     "name": "stderr",
     "output_type": "stream",
     "text": [
      "系统找不到指定的文件。\n"
     ]
    }
   ],
   "source": [
    "!more < key1.dat"
   ]
  },
  {
   "cell_type": "code",
   "execution_count": null,
   "metadata": {},
   "outputs": [],
   "source": [
    "pickle.load(open('key1.dat','rb'))"
   ]
  }
 ],
 "metadata": {
  "kernelspec": {
   "display_name": "Python 3",
   "language": "python",
   "name": "python3"
  },
  "language_info": {
   "codemirror_mode": {
    "name": "ipython",
    "version": 3
   },
   "file_extension": ".py",
   "mimetype": "text/x-python",
   "name": "python",
   "nbconvert_exporter": "python",
   "pygments_lexer": "ipython3",
   "version": "3.7.0"
  }
 },
 "nbformat": 4,
 "nbformat_minor": 2
}
